{
  "nbformat": 4,
  "nbformat_minor": 0,
  "metadata": {
    "colab": {
      "provenance": [],
      "authorship_tag": "ABX9TyOC4nbDNIWbnxx3PEvt/iYw",
      "include_colab_link": true
    },
    "kernelspec": {
      "name": "python3",
      "display_name": "Python 3"
    },
    "language_info": {
      "name": "python"
    }
  },
  "cells": [
    {
      "cell_type": "markdown",
      "metadata": {
        "id": "view-in-github",
        "colab_type": "text"
      },
      "source": [
        "<a href=\"https://colab.research.google.com/github/NidhaK/calculator/blob/main/Untitled3.ipynb\" target=\"_parent\"><img src=\"https://colab.research.google.com/assets/colab-badge.svg\" alt=\"Open In Colab\"/></a>"
      ]
    },
    {
      "cell_type": "code",
      "source": [
        "import sympy\n",
        "\n",
        "class Calculator:\n",
        "    def _init_(self):\n",
        "        pass\n",
        "\n",
        "    def calculate(self, expression):\n",
        "        try:\n",
        "            result = sympy.sympify(expression)\n",
        "            return result.evalf() if isinstance(result, sympy.Basic) else result\n",
        "        except Exception as e:\n",
        "            return f\"Error: {e}\"\n",
        "\n",
        "    def run(self):\n",
        "        expression = input(\"Enter a mathematical expression: \")\n",
        "        result = self.calculate(expression)\n",
        "        print(\"Result:\", result)\n",
        "\n",
        "\n",
        "    calculator = Calculator()\n",
        "    calculator.run()"
      ],
      "metadata": {
        "id": "JiYboMwnC4tp",
        "outputId": "50fdc1d7-a4b8-4f90-d15d-4ac369fa11f9",
        "colab": {
          "base_uri": "https://localhost:8080/"
        }
      },
      "execution_count": 3,
      "outputs": [
        {
          "output_type": "stream",
          "name": "stdout",
          "text": [
            "Enter a mathematical expression: 1+2\n",
            "Result: 3.00000000000000\n"
          ]
        }
      ]
    }
  ]
}